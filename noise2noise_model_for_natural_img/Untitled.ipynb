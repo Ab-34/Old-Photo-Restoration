{
 "cells": [
  {
   "cell_type": "code",
   "execution_count": 1,
   "metadata": {},
   "outputs": [],
   "source": [
    "import torch\n",
    "import torch.nn as nn\n",
    "from torch.optim import Adam, lr_scheduler\n",
    "import os \n",
    "import torchvision.transforms.functional as tvF\n",
    "from unet_model import UNet\n",
    "from Config import Config as conf\n",
    "import time\n",
    "from data_set_builder import Training_Dataset\n",
    "from torch.utils.data import Dataset, DataLoader"
   ]
  },
  {
   "cell_type": "code",
   "execution_count": 2,
   "metadata": {},
   "outputs": [
    {
     "data": {
      "text/plain": [
       "50"
      ]
     },
     "execution_count": 2,
     "metadata": {},
     "output_type": "execute_result"
    }
   ],
   "source": [
    "from Config import Config as conf\n",
    "conf.max_epoch"
   ]
  },
  {
   "cell_type": "code",
   "execution_count": 5,
   "metadata": {},
   "outputs": [],
   "source": [
    "\n",
    "def save_model(model,epoch):\n",
    "    '''save model for eval'''\n",
    "\n",
    "    ckpt_name = '/denoise_epoch_{}.pth'.format(epoch)\n",
    "    path = conf.data_path_checkpoint \n",
    "    if not  os.path.exists(path):\n",
    "        os.mkdir(path)\n",
    "    path_final = path + ckpt_name\n",
    "    print('Saving checkpoint to: {}\\n'.format(path_final))\n",
    "    torch.save(model.state_dict(), path_final)\n",
    "\n",
    "\n",
    "def train():\n",
    "    device = torch.device(conf.cuda if torch.cuda.is_available() else \"cpu\")\n",
    "    dataset = Training_Dataset(conf.data_path_train,conf.gaussian_noise_param,conf.crop_img_size)\n",
    "    dataset_length = len(dataset)\n",
    "    train_loader = DataLoader(dataset, batch_size=4, shuffle=True,num_workers=4)\n",
    "    model = UNet(in_channels =conf.img_channel,out_channels=conf.img_channel)\n",
    "    criterion = nn.MSELoss()\n",
    "    model = model.to(device)\n",
    "    optim = Adam(model.parameters(), lr = conf.learning_rate, betas=(0.9, 0.999), eps=1e-8, weight_decay=0, amsgrad=True)\n",
    "    scheduler = lr_scheduler.StepLR(optim, step_size=100, gamma=0.5)\n",
    "    model.train()\n",
    "    print(model)\n",
    "    print(\"Starting Training Loop...\")\n",
    "    since = time.time()\n",
    "    for epoch in range(conf.max_epoch):\n",
    "        print('Epoch {}/{}'.format(epoch, conf.max_epoch - 1))\n",
    "        print('-' * 10)\n",
    "        running_loss = 0.0\n",
    "        scheduler.step()\n",
    "        for batch_idx , (source,target) in enumerate(train_loader):\n",
    "\n",
    "            source = source.to(device)\n",
    "            target = target.to(device)\n",
    "            optim.zero_grad()\n",
    "\n",
    "            denoised_source = model(source)\n",
    "            loss = criterion(denoised_source,target)\n",
    "            loss.backward()\n",
    "            optim.step()\n",
    "            \n",
    "            running_loss +=loss.item()*source.size(0)\n",
    "            #print('Current loss {} and current batch idx {}' .format(loss.item(),batch_idx))\n",
    "        epoch_loss = running_loss /dataset_length\n",
    "        print('{} Loss: {:.4f}'.format('current '+ str(epoch), epoch_loss))\n",
    "        if (epoch + 1) % conf.save_per_epoch == 0:\n",
    "            save_model(model,epoch + 1)\n",
    "    time_elapsed = time.time() - since\n",
    "    print('Training complete in {:.0f}m {:.0f}s'.format(time_elapsed // 60, time_elapsed % 60))\n",
    "\n",
    "\n"
   ]
  },
  {
   "cell_type": "code",
   "execution_count": null,
   "metadata": {},
   "outputs": [
    {
     "name": "stdout",
     "output_type": "stream",
     "text": [
      "UNet(\n",
      "  (encode1): Sequential(\n",
      "    (0): Conv2d(3, 48, kernel_size=(3, 3), stride=(1, 1), padding=(1, 1))\n",
      "    (1): LeakyReLU(negative_slope=0.1)\n",
      "    (2): Conv2d(48, 48, kernel_size=(3, 3), stride=(1, 1), padding=(1, 1))\n",
      "    (3): LeakyReLU(negative_slope=0.1)\n",
      "    (4): MaxPool2d(kernel_size=2, stride=2, padding=0, dilation=1, ceil_mode=False)\n",
      "  )\n",
      "  (encode2): Sequential(\n",
      "    (0): Conv2d(48, 48, kernel_size=(3, 3), stride=(1, 1), padding=(1, 1))\n",
      "    (1): LeakyReLU(negative_slope=0.1)\n",
      "    (2): MaxPool2d(kernel_size=2, stride=2, padding=0, dilation=1, ceil_mode=False)\n",
      "  )\n",
      "  (encode3): Sequential(\n",
      "    (0): Conv2d(48, 48, kernel_size=(3, 3), stride=(1, 1), padding=(1, 1))\n",
      "    (1): LeakyReLU(negative_slope=0.1)\n",
      "    (2): MaxPool2d(kernel_size=2, stride=2, padding=0, dilation=1, ceil_mode=False)\n",
      "  )\n",
      "  (encode4): Sequential(\n",
      "    (0): Conv2d(48, 48, kernel_size=(3, 3), stride=(1, 1), padding=(1, 1))\n",
      "    (1): LeakyReLU(negative_slope=0.1)\n",
      "    (2): MaxPool2d(kernel_size=2, stride=2, padding=0, dilation=1, ceil_mode=False)\n",
      "  )\n",
      "  (encode5): Sequential(\n",
      "    (0): Conv2d(48, 48, kernel_size=(3, 3), stride=(1, 1), padding=(1, 1))\n",
      "    (1): LeakyReLU(negative_slope=0.1)\n",
      "    (2): MaxPool2d(kernel_size=2, stride=2, padding=0, dilation=1, ceil_mode=False)\n",
      "  )\n",
      "  (encode6): Sequential(\n",
      "    (0): Conv2d(48, 48, kernel_size=(3, 3), stride=(1, 1), padding=(1, 1))\n",
      "    (1): ConvTranspose2d(48, 48, kernel_size=(3, 3), stride=(2, 2), padding=(1, 1), output_padding=(1, 1))\n",
      "  )\n",
      "  (decode1): Sequential(\n",
      "    (0): Conv2d(96, 96, kernel_size=(3, 3), stride=(1, 1), padding=(1, 1))\n",
      "    (1): LeakyReLU(negative_slope=0.1)\n",
      "    (2): Conv2d(96, 96, kernel_size=(3, 3), stride=(1, 1), padding=(1, 1))\n",
      "    (3): LeakyReLU(negative_slope=0.1)\n",
      "    (4): ConvTranspose2d(96, 96, kernel_size=(3, 3), stride=(2, 2), padding=(1, 1), output_padding=(1, 1))\n",
      "  )\n",
      "  (decode2): Sequential(\n",
      "    (0): Conv2d(144, 96, kernel_size=(3, 3), stride=(1, 1), padding=(1, 1))\n",
      "    (1): LeakyReLU(negative_slope=0.1)\n",
      "    (2): Conv2d(96, 96, kernel_size=(3, 3), stride=(1, 1), padding=(1, 1))\n",
      "    (3): LeakyReLU(negative_slope=0.1)\n",
      "    (4): ConvTranspose2d(96, 96, kernel_size=(3, 3), stride=(2, 2), padding=(1, 1), output_padding=(1, 1))\n",
      "  )\n",
      "  (decode3): Sequential(\n",
      "    (0): Conv2d(144, 96, kernel_size=(3, 3), stride=(1, 1), padding=(1, 1))\n",
      "    (1): LeakyReLU(negative_slope=0.1)\n",
      "    (2): Conv2d(96, 96, kernel_size=(3, 3), stride=(1, 1), padding=(1, 1))\n",
      "    (3): LeakyReLU(negative_slope=0.1)\n",
      "    (4): ConvTranspose2d(96, 96, kernel_size=(3, 3), stride=(2, 2), padding=(1, 1), output_padding=(1, 1))\n",
      "  )\n",
      "  (decode4): Sequential(\n",
      "    (0): Conv2d(144, 96, kernel_size=(3, 3), stride=(1, 1), padding=(1, 1))\n",
      "    (1): LeakyReLU(negative_slope=0.1)\n",
      "    (2): Conv2d(96, 96, kernel_size=(3, 3), stride=(1, 1), padding=(1, 1))\n",
      "    (3): LeakyReLU(negative_slope=0.1)\n",
      "    (4): ConvTranspose2d(96, 96, kernel_size=(3, 3), stride=(2, 2), padding=(1, 1), output_padding=(1, 1))\n",
      "  )\n",
      "  (decode5): Sequential(\n",
      "    (0): Conv2d(99, 64, kernel_size=(3, 3), stride=(1, 1), padding=(1, 1))\n",
      "    (1): LeakyReLU(negative_slope=0.1)\n",
      "    (2): Conv2d(64, 32, kernel_size=(3, 3), stride=(1, 1), padding=(1, 1))\n",
      "    (3): LeakyReLU(negative_slope=0.1)\n",
      "  )\n",
      "  (output_layer): Conv2d(32, 3, kernel_size=(3, 3), stride=(1, 1), padding=(1, 1))\n",
      ")\n",
      "Starting Training Loop...\n",
      "Epoch 0/49\n",
      "----------\n"
     ]
    }
   ],
   "source": [
    "train()"
   ]
  },
  {
   "cell_type": "code",
   "execution_count": null,
   "metadata": {},
   "outputs": [],
   "source": []
  },
  {
   "cell_type": "code",
   "execution_count": null,
   "metadata": {},
   "outputs": [],
   "source": []
  }
 ],
 "metadata": {
  "kernelspec": {
   "display_name": "Python 3",
   "language": "python",
   "name": "python3"
  },
  "language_info": {
   "codemirror_mode": {
    "name": "ipython",
    "version": 3
   },
   "file_extension": ".py",
   "mimetype": "text/x-python",
   "name": "python",
   "nbconvert_exporter": "python",
   "pygments_lexer": "ipython3",
   "version": "3.7.8"
  }
 },
 "nbformat": 4,
 "nbformat_minor": 4
}
